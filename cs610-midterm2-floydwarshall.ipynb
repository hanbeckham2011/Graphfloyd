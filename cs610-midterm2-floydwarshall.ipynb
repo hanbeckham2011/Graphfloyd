{
 "cells": [
  {
   "cell_type": "code",
   "execution_count": 3,
   "id": "37d4e74a",
   "metadata": {},
   "outputs": [
    {
     "name": "stdout",
     "output_type": "stream",
     "text": [
      "0  5  6  1   \n",
      "3  0  1  3   \n",
      "2  4  0  3   \n",
      "5  10  6  0   \n"
     ]
    }
   ],
   "source": [
    "INF = 9999\n",
    "def printSolution(numOfVertices, distance):\n",
    "    for i in range(numOfVertices):\n",
    "        for j in range(numOfVertices):\n",
    "            if(distance[i][j] == INF):\n",
    "                print(\"INF\", end=\" \")\n",
    "            else:\n",
    "                print(distance[i][j], end=\"  \")\n",
    "        print(\" \")\n",
    "\n",
    "def floydWarshall(numOfVertices, G):\n",
    "    distance = G\n",
    "    for k in range(numOfVertices):\n",
    "        for i in range(numOfVertices):\n",
    "            for j in range(numOfVertices):\n",
    "                distance[i][j] = min(\n",
    "                    distance[i][j], distance[i][k]+distance[k][j])\n",
    "\n",
    "    printSolution(numOfVertices, distance)\n",
    " \n",
    " \n",
    "\n",
    "G = [[0, 5, INF, 1],\n",
    "     [INF, 0, 1, 3],\n",
    "     [2, 4, 0, INF],\n",
    "     [5, INF, 6, 0]\n",
    "    ]\n",
    " \n",
    "floydWarshall(4, G)"
   ]
  },
  {
   "cell_type": "code",
   "execution_count": null,
   "id": "5bc76390",
   "metadata": {},
   "outputs": [],
   "source": []
  }
 ],
 "metadata": {
  "kernelspec": {
   "display_name": "Python 3",
   "language": "python",
   "name": "python3"
  },
  "language_info": {
   "codemirror_mode": {
    "name": "ipython",
    "version": 3
   },
   "file_extension": ".py",
   "mimetype": "text/x-python",
   "name": "python",
   "nbconvert_exporter": "python",
   "pygments_lexer": "ipython3",
   "version": "3.8.8"
  }
 },
 "nbformat": 4,
 "nbformat_minor": 5
}
